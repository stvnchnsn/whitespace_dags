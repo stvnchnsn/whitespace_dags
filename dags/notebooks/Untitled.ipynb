{
 "cells": [
  {
   "cell_type": "code",
   "execution_count": 16,
   "id": "1790b5d8-1b47-4b6e-9e32-d50db2c69564",
   "metadata": {},
   "outputs": [],
   "source": [
    "import os\n",
    "\n",
    "import pandas as pd\n",
    "\n",
    "from google.cloud import bigquery\n",
    "from google.oauth2 import service_account\n",
    "def get_big_query(query, credientials_path, project_id = 'trusty-sentinel-283421'):\n",
    "    \n",
    "    to_fp = credientials_path\n",
    "    #get_blob(CONFIG['bucket_name'], CONFIG['bg_api_fp'], to_fp)\n",
    "    credentials = service_account.Credentials.from_service_account_file(to_fp)\n",
    "    client = bigquery.Client(credentials= credentials,project=project_id)\n",
    "    print(f'executing BigQuery: {query}')\n",
    "    query_job = client.query(query)\n",
    "    results = query_job.result()\n",
    "    return results.to_dataframe()"
   ]
  },
  {
   "cell_type": "code",
   "execution_count": 11,
   "id": "dc2e8b0a-05d3-4ef4-935a-dff47ba40fa9",
   "metadata": {},
   "outputs": [
    {
     "data": {
      "text/plain": [
       "['trusty-sentinel-283421-8d4e435c814a.json', 'monkey.pkl']"
      ]
     },
     "execution_count": 11,
     "metadata": {},
     "output_type": "execute_result"
    }
   ],
   "source": [
    "os.listdir(\"/Users/stevenhansen/GitHub/airflow-docker2/dags/creds/trusty-sentinel-283421-8d4e435c814a.json\")"
   ]
  },
  {
   "cell_type": "code",
   "execution_count": 13,
   "id": "af96a89e-af02-4716-816a-fb1abc1624c4",
   "metadata": {},
   "outputs": [],
   "source": [
    "credientials_path = \"/Users/stevenhansen/GitHub/airflow-docker2/dags/creds/trusty-sentinel-283421-8d4e435c814a.json\""
   ]
  },
  {
   "cell_type": "code",
   "execution_count": 14,
   "id": "784ac130-10ec-4a9e-b65d-6da53b7b96c1",
   "metadata": {},
   "outputs": [],
   "source": [
    "schema = \"reddit_db\"\n"
   ]
  },
  {
   "cell_type": "code",
   "execution_count": 27,
   "id": "5565989c-b823-49b4-a878-0e5c7f62df4e",
   "metadata": {},
   "outputs": [
    {
     "name": "stdout",
     "output_type": "stream",
     "text": [
      "executing BigQuery: \n",
      "SELECT COUNT(*)\n",
      "FROM reddit_db.raw_reddit_pulls\n",
      "\n"
     ]
    },
    {
     "data": {
      "text/html": [
       "<div>\n",
       "<style scoped>\n",
       "    .dataframe tbody tr th:only-of-type {\n",
       "        vertical-align: middle;\n",
       "    }\n",
       "\n",
       "    .dataframe tbody tr th {\n",
       "        vertical-align: top;\n",
       "    }\n",
       "\n",
       "    .dataframe thead th {\n",
       "        text-align: right;\n",
       "    }\n",
       "</style>\n",
       "<table border=\"1\" class=\"dataframe\">\n",
       "  <thead>\n",
       "    <tr style=\"text-align: right;\">\n",
       "      <th></th>\n",
       "      <th>f0_</th>\n",
       "    </tr>\n",
       "  </thead>\n",
       "  <tbody>\n",
       "    <tr>\n",
       "      <th>0</th>\n",
       "      <td>7828</td>\n",
       "    </tr>\n",
       "  </tbody>\n",
       "</table>\n",
       "</div>"
      ],
      "text/plain": [
       "    f0_\n",
       "0  7828"
      ]
     },
     "execution_count": 27,
     "metadata": {},
     "output_type": "execute_result"
    }
   ],
   "source": [
    "q = f'''\n",
    "SELECT COUNT(*)\n",
    "FROM {schema}.raw_reddit_pulls\n",
    "'''\n",
    "get_big_query(q, credientials_path = credientials_path)"
   ]
  },
  {
   "cell_type": "code",
   "execution_count": 28,
   "id": "f24c310d-c700-434c-9559-3db6ee83c583",
   "metadata": {},
   "outputs": [
    {
     "name": "stdout",
     "output_type": "stream",
     "text": [
      "executing BigQuery: \n",
      "SELECT COUNT(*)\n",
      "FROM reddit_db.post_exposure\n",
      "\n"
     ]
    },
    {
     "data": {
      "text/html": [
       "<div>\n",
       "<style scoped>\n",
       "    .dataframe tbody tr th:only-of-type {\n",
       "        vertical-align: middle;\n",
       "    }\n",
       "\n",
       "    .dataframe tbody tr th {\n",
       "        vertical-align: top;\n",
       "    }\n",
       "\n",
       "    .dataframe thead th {\n",
       "        text-align: right;\n",
       "    }\n",
       "</style>\n",
       "<table border=\"1\" class=\"dataframe\">\n",
       "  <thead>\n",
       "    <tr style=\"text-align: right;\">\n",
       "      <th></th>\n",
       "      <th>f0_</th>\n",
       "    </tr>\n",
       "  </thead>\n",
       "  <tbody>\n",
       "    <tr>\n",
       "      <th>0</th>\n",
       "      <td>7002</td>\n",
       "    </tr>\n",
       "  </tbody>\n",
       "</table>\n",
       "</div>"
      ],
      "text/plain": [
       "    f0_\n",
       "0  7002"
      ]
     },
     "execution_count": 28,
     "metadata": {},
     "output_type": "execute_result"
    }
   ],
   "source": [
    "q = f'''\n",
    "SELECT COUNT(*)\n",
    "FROM {schema}.post_exposure\n",
    "'''\n",
    "get_big_query(q, credientials_path = credientials_path)"
   ]
  },
  {
   "cell_type": "code",
   "execution_count": 29,
   "id": "3673e99e-98a5-4026-b9de-aa289ae4aed7",
   "metadata": {},
   "outputs": [
    {
     "name": "stdout",
     "output_type": "stream",
     "text": [
      "executing BigQuery: \n",
      "SELECT COUNT(*)\n",
      "FROM reddit_db.post_search_terms\n",
      "\n"
     ]
    },
    {
     "data": {
      "text/html": [
       "<div>\n",
       "<style scoped>\n",
       "    .dataframe tbody tr th:only-of-type {\n",
       "        vertical-align: middle;\n",
       "    }\n",
       "\n",
       "    .dataframe tbody tr th {\n",
       "        vertical-align: top;\n",
       "    }\n",
       "\n",
       "    .dataframe thead th {\n",
       "        text-align: right;\n",
       "    }\n",
       "</style>\n",
       "<table border=\"1\" class=\"dataframe\">\n",
       "  <thead>\n",
       "    <tr style=\"text-align: right;\">\n",
       "      <th></th>\n",
       "      <th>f0_</th>\n",
       "    </tr>\n",
       "  </thead>\n",
       "  <tbody>\n",
       "    <tr>\n",
       "      <th>0</th>\n",
       "      <td>7002</td>\n",
       "    </tr>\n",
       "  </tbody>\n",
       "</table>\n",
       "</div>"
      ],
      "text/plain": [
       "    f0_\n",
       "0  7002"
      ]
     },
     "execution_count": 29,
     "metadata": {},
     "output_type": "execute_result"
    }
   ],
   "source": [
    "q = f'''\n",
    "SELECT COUNT(*)\n",
    "FROM {schema}.post_search_terms\n",
    "'''\n",
    "get_big_query(q, credientials_path = credientials_path)"
   ]
  },
  {
   "cell_type": "code",
   "execution_count": 30,
   "id": "1e7edd7b-c9f2-4a52-8703-03baf7272dd2",
   "metadata": {},
   "outputs": [
    {
     "name": "stdout",
     "output_type": "stream",
     "text": [
      "executing BigQuery: \n",
      "SELECT COUNT(*)\n",
      "FROM reddit_db.topic_search_terms\n",
      "\n"
     ]
    },
    {
     "data": {
      "text/html": [
       "<div>\n",
       "<style scoped>\n",
       "    .dataframe tbody tr th:only-of-type {\n",
       "        vertical-align: middle;\n",
       "    }\n",
       "\n",
       "    .dataframe tbody tr th {\n",
       "        vertical-align: top;\n",
       "    }\n",
       "\n",
       "    .dataframe thead th {\n",
       "        text-align: right;\n",
       "    }\n",
       "</style>\n",
       "<table border=\"1\" class=\"dataframe\">\n",
       "  <thead>\n",
       "    <tr style=\"text-align: right;\">\n",
       "      <th></th>\n",
       "      <th>f0_</th>\n",
       "    </tr>\n",
       "  </thead>\n",
       "  <tbody>\n",
       "    <tr>\n",
       "      <th>0</th>\n",
       "      <td>7002</td>\n",
       "    </tr>\n",
       "  </tbody>\n",
       "</table>\n",
       "</div>"
      ],
      "text/plain": [
       "    f0_\n",
       "0  7002"
      ]
     },
     "execution_count": 30,
     "metadata": {},
     "output_type": "execute_result"
    }
   ],
   "source": [
    "q = f'''\n",
    "SELECT COUNT(*)\n",
    "FROM {schema}.topic_search_terms\n",
    "'''\n",
    "get_big_query(q, credientials_path = credientials_path)"
   ]
  },
  {
   "cell_type": "code",
   "execution_count": null,
   "id": "0cc917e3-a0d7-4ad6-9c8c-013357441563",
   "metadata": {},
   "outputs": [],
   "source": []
  },
  {
   "cell_type": "code",
   "execution_count": 61,
   "id": "ed730a0b-0e28-4e6b-9c99-aed6378a3ab5",
   "metadata": {},
   "outputs": [
    {
     "name": "stdout",
     "output_type": "stream",
     "text": [
      "executing BigQuery: SELECT * \n",
      "FROM reddit_db.raw_reddit_pulls raw_reddit_pulls\n",
      "INNER JOIN reddit_db.post_exposure post_exposure\n",
      "  ON raw_reddit_pulls.id = post_exposure.id\n",
      "INNER JOIN reddit_db.post_search_terms post_search_terms\n",
      "  on raw_reddit_pulls.id = post_search_terms.id\n",
      "INNER JOIN reddit_db.topic_search_terms topic_search\n",
      "  on raw_reddit_pulls.id = topic_search.id\n",
      "  \n",
      "(43672, 18)\n"
     ]
    },
    {
     "data": {
      "text/html": [
       "<div>\n",
       "<style scoped>\n",
       "    .dataframe tbody tr th:only-of-type {\n",
       "        vertical-align: middle;\n",
       "    }\n",
       "\n",
       "    .dataframe tbody tr th {\n",
       "        vertical-align: top;\n",
       "    }\n",
       "\n",
       "    .dataframe thead th {\n",
       "        text-align: right;\n",
       "    }\n",
       "</style>\n",
       "<table border=\"1\" class=\"dataframe\">\n",
       "  <thead>\n",
       "    <tr style=\"text-align: right;\">\n",
       "      <th></th>\n",
       "      <th>id</th>\n",
       "      <th>created</th>\n",
       "      <th>subreddit</th>\n",
       "      <th>subreddit_id</th>\n",
       "      <th>selftext</th>\n",
       "      <th>author_fullname</th>\n",
       "      <th>title</th>\n",
       "      <th>name</th>\n",
       "      <th>url</th>\n",
       "      <th>id_1</th>\n",
       "      <th>num_comments</th>\n",
       "      <th>ups</th>\n",
       "      <th>upvote_ratio</th>\n",
       "      <th>measurement_date</th>\n",
       "      <th>id_2</th>\n",
       "      <th>search_term</th>\n",
       "      <th>id_3</th>\n",
       "      <th>topic</th>\n",
       "    </tr>\n",
       "  </thead>\n",
       "  <tbody>\n",
       "    <tr>\n",
       "      <th>0</th>\n",
       "      <td>163yydd</td>\n",
       "      <td>2023-08-28 16:39:05</td>\n",
       "      <td>Fauxmoi</td>\n",
       "      <td>t5_2rqcm8</td>\n",
       "      <td></td>\n",
       "      <td>t2_9n3bifg</td>\n",
       "      <td>Cease And Desist sent from Eminem to Republica...</td>\n",
       "      <td>t3_163yydd</td>\n",
       "      <td>https://www.reddit.com/gallery/163yydd</td>\n",
       "      <td>163yydd</td>\n",
       "      <td>227</td>\n",
       "      <td>2718</td>\n",
       "      <td>0.96</td>\n",
       "      <td>202308290207</td>\n",
       "      <td>163yydd</td>\n",
       "      <td>Vivek Ramaswamy</td>\n",
       "      <td>163yydd</td>\n",
       "      <td>us_election_2024</td>\n",
       "    </tr>\n",
       "    <tr>\n",
       "      <th>1</th>\n",
       "      <td>163yydd</td>\n",
       "      <td>2023-08-28 16:39:05</td>\n",
       "      <td>Fauxmoi</td>\n",
       "      <td>t5_2rqcm8</td>\n",
       "      <td></td>\n",
       "      <td>t2_9n3bifg</td>\n",
       "      <td>Cease And Desist sent from Eminem to Republica...</td>\n",
       "      <td>t3_163yydd</td>\n",
       "      <td>https://www.reddit.com/gallery/163yydd</td>\n",
       "      <td>163yydd</td>\n",
       "      <td>227</td>\n",
       "      <td>2718</td>\n",
       "      <td>0.96</td>\n",
       "      <td>202308290207</td>\n",
       "      <td>163yydd</td>\n",
       "      <td>Vivek Ramaswamy</td>\n",
       "      <td>163yydd</td>\n",
       "      <td>us_election_2024</td>\n",
       "    </tr>\n",
       "    <tr>\n",
       "      <th>2</th>\n",
       "      <td>163yydd</td>\n",
       "      <td>2023-08-28 16:39:05</td>\n",
       "      <td>Fauxmoi</td>\n",
       "      <td>t5_2rqcm8</td>\n",
       "      <td></td>\n",
       "      <td>t2_9n3bifg</td>\n",
       "      <td>Cease And Desist sent from Eminem to Republica...</td>\n",
       "      <td>t3_163yydd</td>\n",
       "      <td>https://www.reddit.com/gallery/163yydd</td>\n",
       "      <td>163yydd</td>\n",
       "      <td>227</td>\n",
       "      <td>2718</td>\n",
       "      <td>0.96</td>\n",
       "      <td>202308290207</td>\n",
       "      <td>163yydd</td>\n",
       "      <td>Vivek Ramaswamy</td>\n",
       "      <td>163yydd</td>\n",
       "      <td>us_election_2024</td>\n",
       "    </tr>\n",
       "    <tr>\n",
       "      <th>3</th>\n",
       "      <td>163yydd</td>\n",
       "      <td>2023-08-28 16:39:05</td>\n",
       "      <td>Fauxmoi</td>\n",
       "      <td>t5_2rqcm8</td>\n",
       "      <td></td>\n",
       "      <td>t2_9n3bifg</td>\n",
       "      <td>Cease And Desist sent from Eminem to Republica...</td>\n",
       "      <td>t3_163yydd</td>\n",
       "      <td>https://www.reddit.com/gallery/163yydd</td>\n",
       "      <td>163yydd</td>\n",
       "      <td>227</td>\n",
       "      <td>2718</td>\n",
       "      <td>0.96</td>\n",
       "      <td>202308290207</td>\n",
       "      <td>163yydd</td>\n",
       "      <td>Vivek Ramaswamy</td>\n",
       "      <td>163yydd</td>\n",
       "      <td>us_election_2024</td>\n",
       "    </tr>\n",
       "    <tr>\n",
       "      <th>4</th>\n",
       "      <td>163yydd</td>\n",
       "      <td>2023-08-28 16:39:05</td>\n",
       "      <td>Fauxmoi</td>\n",
       "      <td>t5_2rqcm8</td>\n",
       "      <td></td>\n",
       "      <td>t2_9n3bifg</td>\n",
       "      <td>Cease And Desist sent from Eminem to Republica...</td>\n",
       "      <td>t3_163yydd</td>\n",
       "      <td>https://www.reddit.com/gallery/163yydd</td>\n",
       "      <td>163yydd</td>\n",
       "      <td>227</td>\n",
       "      <td>2727</td>\n",
       "      <td>0.96</td>\n",
       "      <td>202308290207</td>\n",
       "      <td>163yydd</td>\n",
       "      <td>Vivek Ramaswamy</td>\n",
       "      <td>163yydd</td>\n",
       "      <td>us_election_2024</td>\n",
       "    </tr>\n",
       "  </tbody>\n",
       "</table>\n",
       "</div>"
      ],
      "text/plain": [
       "        id              created subreddit subreddit_id selftext  \\\n",
       "0  163yydd  2023-08-28 16:39:05   Fauxmoi    t5_2rqcm8            \n",
       "1  163yydd  2023-08-28 16:39:05   Fauxmoi    t5_2rqcm8            \n",
       "2  163yydd  2023-08-28 16:39:05   Fauxmoi    t5_2rqcm8            \n",
       "3  163yydd  2023-08-28 16:39:05   Fauxmoi    t5_2rqcm8            \n",
       "4  163yydd  2023-08-28 16:39:05   Fauxmoi    t5_2rqcm8            \n",
       "\n",
       "  author_fullname                                              title  \\\n",
       "0      t2_9n3bifg  Cease And Desist sent from Eminem to Republica...   \n",
       "1      t2_9n3bifg  Cease And Desist sent from Eminem to Republica...   \n",
       "2      t2_9n3bifg  Cease And Desist sent from Eminem to Republica...   \n",
       "3      t2_9n3bifg  Cease And Desist sent from Eminem to Republica...   \n",
       "4      t2_9n3bifg  Cease And Desist sent from Eminem to Republica...   \n",
       "\n",
       "         name                                     url     id_1 num_comments  \\\n",
       "0  t3_163yydd  https://www.reddit.com/gallery/163yydd  163yydd          227   \n",
       "1  t3_163yydd  https://www.reddit.com/gallery/163yydd  163yydd          227   \n",
       "2  t3_163yydd  https://www.reddit.com/gallery/163yydd  163yydd          227   \n",
       "3  t3_163yydd  https://www.reddit.com/gallery/163yydd  163yydd          227   \n",
       "4  t3_163yydd  https://www.reddit.com/gallery/163yydd  163yydd          227   \n",
       "\n",
       "    ups upvote_ratio measurement_date     id_2      search_term     id_3  \\\n",
       "0  2718         0.96     202308290207  163yydd  Vivek Ramaswamy  163yydd   \n",
       "1  2718         0.96     202308290207  163yydd  Vivek Ramaswamy  163yydd   \n",
       "2  2718         0.96     202308290207  163yydd  Vivek Ramaswamy  163yydd   \n",
       "3  2718         0.96     202308290207  163yydd  Vivek Ramaswamy  163yydd   \n",
       "4  2727         0.96     202308290207  163yydd  Vivek Ramaswamy  163yydd   \n",
       "\n",
       "              topic  \n",
       "0  us_election_2024  \n",
       "1  us_election_2024  \n",
       "2  us_election_2024  \n",
       "3  us_election_2024  \n",
       "4  us_election_2024  "
      ]
     },
     "execution_count": 61,
     "metadata": {},
     "output_type": "execute_result"
    }
   ],
   "source": [
    "q = f'''SELECT * \n",
    "FROM {schema}.raw_reddit_pulls raw_reddit_pulls\n",
    "INNER JOIN {schema}.post_exposure post_exposure\n",
    "  ON raw_reddit_pulls.id = post_exposure.id\n",
    "INNER JOIN {schema}.post_search_terms post_search_terms\n",
    "  on raw_reddit_pulls.id = post_search_terms.id\n",
    "INNER JOIN {schema}.topic_search_terms topic_search\n",
    "  on raw_reddit_pulls.id = topic_search.id\n",
    "  '''\n",
    "\n",
    "df = get_big_query(q, credientials_path = credientials_path)\n",
    "print(df.shape)\n",
    "df.head()"
   ]
  },
  {
   "cell_type": "code",
   "execution_count": 62,
   "id": "56f4a152-3761-4dc1-9d0e-69f40e58bee3",
   "metadata": {},
   "outputs": [],
   "source": [
    "cols = list(df.columns)\n",
    "cols.remove('ups')\n",
    "cols.remove('upvote_ratio')\n",
    "cols.remove('num_comments')\n"
   ]
  },
  {
   "cell_type": "code",
   "execution_count": 63,
   "id": "e926a6c7-2e50-4014-81d1-f162eca7886d",
   "metadata": {},
   "outputs": [
    {
     "data": {
      "text/plain": [
       "['id',\n",
       " 'created',\n",
       " 'subreddit',\n",
       " 'subreddit_id',\n",
       " 'selftext',\n",
       " 'author_fullname',\n",
       " 'title',\n",
       " 'name',\n",
       " 'url',\n",
       " 'id_1',\n",
       " 'measurement_date',\n",
       " 'id_2',\n",
       " 'search_term',\n",
       " 'id_3',\n",
       " 'topic']"
      ]
     },
     "execution_count": 63,
     "metadata": {},
     "output_type": "execute_result"
    }
   ],
   "source": [
    "cols"
   ]
  },
  {
   "cell_type": "code",
   "execution_count": 64,
   "id": "090fe9cc-01c5-4290-aae9-b94b83d8aae1",
   "metadata": {},
   "outputs": [
    {
     "name": "stdout",
     "output_type": "stream",
     "text": [
      "(3501, 18)\n"
     ]
    }
   ],
   "source": [
    "df = df[~df[cols].duplicated()]\n",
    "print(df.shape)"
   ]
  },
  {
   "cell_type": "code",
   "execution_count": 65,
   "id": "012bc3e8-43fa-417c-b41b-b7a21b0cbe6f",
   "metadata": {},
   "outputs": [
    {
     "data": {
      "text/plain": [
       "trump                247\n",
       "Vivek Ramaswamy      245\n",
       "Asa Hutchinson       243\n",
       "biden                242\n",
       "Doug Burgum          242\n",
       "Florida              240\n",
       "DeSantis             240\n",
       "Gov. Ron Desantis    237\n",
       "Joe Biden            231\n",
       "Mike Pence           229\n",
       "Chris Christie       224\n",
       "Tim Scott            222\n",
       "trump2024            217\n",
       "Nikki Haley          201\n",
       "Donald J. Trump      115\n",
       "biden2024             99\n",
       "Glenn Younkin         27\n",
       "Name: search_term, dtype: int64"
      ]
     },
     "execution_count": 65,
     "metadata": {},
     "output_type": "execute_result"
    }
   ],
   "source": [
    "df['search_term'].value_counts()"
   ]
  },
  {
   "cell_type": "code",
   "execution_count": 59,
   "id": "607a71e9-add7-43c4-b95d-25ba84f3ba05",
   "metadata": {},
   "outputs": [
    {
     "name": "stdout",
     "output_type": "stream",
     "text": [
      "(17, 2)\n"
     ]
    },
    {
     "data": {
      "text/html": [
       "<div>\n",
       "<style scoped>\n",
       "    .dataframe tbody tr th:only-of-type {\n",
       "        vertical-align: middle;\n",
       "    }\n",
       "\n",
       "    .dataframe tbody tr th {\n",
       "        vertical-align: top;\n",
       "    }\n",
       "\n",
       "    .dataframe thead th {\n",
       "        text-align: right;\n",
       "    }\n",
       "</style>\n",
       "<table border=\"1\" class=\"dataframe\">\n",
       "  <thead>\n",
       "    <tr style=\"text-align: right;\">\n",
       "      <th></th>\n",
       "      <th>sum_ups</th>\n",
       "      <th>sum_comments</th>\n",
       "    </tr>\n",
       "  </thead>\n",
       "  <tbody>\n",
       "    <tr>\n",
       "      <th>Joe Biden</th>\n",
       "      <td>6885096.0</td>\n",
       "      <td>735723.0</td>\n",
       "    </tr>\n",
       "    <tr>\n",
       "      <th>trump</th>\n",
       "      <td>7158537.0</td>\n",
       "      <td>699855.0</td>\n",
       "    </tr>\n",
       "    <tr>\n",
       "      <th>biden</th>\n",
       "      <td>6375188.0</td>\n",
       "      <td>563534.0</td>\n",
       "    </tr>\n",
       "    <tr>\n",
       "      <th>Florida</th>\n",
       "      <td>6634146.0</td>\n",
       "      <td>505239.0</td>\n",
       "    </tr>\n",
       "    <tr>\n",
       "      <th>Donald J. Trump</th>\n",
       "      <td>1782787.0</td>\n",
       "      <td>423528.0</td>\n",
       "    </tr>\n",
       "    <tr>\n",
       "      <th>DeSantis</th>\n",
       "      <td>5279332.0</td>\n",
       "      <td>394112.0</td>\n",
       "    </tr>\n",
       "    <tr>\n",
       "      <th>Mike Pence</th>\n",
       "      <td>4704841.0</td>\n",
       "      <td>260281.0</td>\n",
       "    </tr>\n",
       "    <tr>\n",
       "      <th>Chris Christie</th>\n",
       "      <td>1355223.0</td>\n",
       "      <td>113829.0</td>\n",
       "    </tr>\n",
       "    <tr>\n",
       "      <th>Gov. Ron Desantis</th>\n",
       "      <td>743400.0</td>\n",
       "      <td>91810.0</td>\n",
       "    </tr>\n",
       "    <tr>\n",
       "      <th>Nikki Haley</th>\n",
       "      <td>763420.0</td>\n",
       "      <td>77391.0</td>\n",
       "    </tr>\n",
       "    <tr>\n",
       "      <th>Vivek Ramaswamy</th>\n",
       "      <td>130400.0</td>\n",
       "      <td>37896.0</td>\n",
       "    </tr>\n",
       "    <tr>\n",
       "      <th>Tim Scott</th>\n",
       "      <td>238436.0</td>\n",
       "      <td>29045.0</td>\n",
       "    </tr>\n",
       "    <tr>\n",
       "      <th>Doug Burgum</th>\n",
       "      <td>7917.0</td>\n",
       "      <td>19166.0</td>\n",
       "    </tr>\n",
       "    <tr>\n",
       "      <th>Asa Hutchinson</th>\n",
       "      <td>52068.0</td>\n",
       "      <td>6959.0</td>\n",
       "    </tr>\n",
       "    <tr>\n",
       "      <th>trump2024</th>\n",
       "      <td>31505.0</td>\n",
       "      <td>3181.0</td>\n",
       "    </tr>\n",
       "    <tr>\n",
       "      <th>biden2024</th>\n",
       "      <td>21499.0</td>\n",
       "      <td>3171.0</td>\n",
       "    </tr>\n",
       "    <tr>\n",
       "      <th>Glenn Younkin</th>\n",
       "      <td>633.0</td>\n",
       "      <td>472.0</td>\n",
       "    </tr>\n",
       "  </tbody>\n",
       "</table>\n",
       "</div>"
      ],
      "text/plain": [
       "                     sum_ups  sum_comments\n",
       "Joe Biden          6885096.0      735723.0\n",
       "trump              7158537.0      699855.0\n",
       "biden              6375188.0      563534.0\n",
       "Florida            6634146.0      505239.0\n",
       "Donald J. Trump    1782787.0      423528.0\n",
       "DeSantis           5279332.0      394112.0\n",
       "Mike Pence         4704841.0      260281.0\n",
       "Chris Christie     1355223.0      113829.0\n",
       "Gov. Ron Desantis   743400.0       91810.0\n",
       "Nikki Haley         763420.0       77391.0\n",
       "Vivek Ramaswamy     130400.0       37896.0\n",
       "Tim Scott           238436.0       29045.0\n",
       "Doug Burgum           7917.0       19166.0\n",
       "Asa Hutchinson       52068.0        6959.0\n",
       "trump2024            31505.0        3181.0\n",
       "biden2024            21499.0        3171.0\n",
       "Glenn Younkin          633.0         472.0"
      ]
     },
     "execution_count": 59,
     "metadata": {},
     "output_type": "execute_result"
    }
   ],
   "source": [
    "search_term_exposure = pd.DataFrame()\n",
    "for search_term, frame in df.groupby('search_term'):\n",
    "    search_term_exposure.loc[search_term, 'sum_ups'] = frame.ups.astype(int).sum()\n",
    "    search_term_exposure.loc[search_term,'sum_comments'] = frame.num_comments.astype(int).sum()\n",
    "    \n",
    "print(search_term_exposure.shape)\n",
    "search_term_exposure.sort_values(by = 'sum_comments',ascending = False)\n",
    "    "
   ]
  },
  {
   "cell_type": "code",
   "execution_count": null,
   "id": "de95496f-ba14-4358-958d-0823feb259b7",
   "metadata": {},
   "outputs": [],
   "source": []
  },
  {
   "cell_type": "code",
   "execution_count": null,
   "id": "3538e822-104c-41fe-ab5a-d1c83abd87cb",
   "metadata": {},
   "outputs": [],
   "source": []
  },
  {
   "cell_type": "markdown",
   "id": "5bfda5d6-406b-43d6-8f60-8d9e3cdee7ab",
   "metadata": {},
   "source": [
    "## raw_reddit_pulls"
   ]
  },
  {
   "cell_type": "code",
   "execution_count": 17,
   "id": "2e175e38-1d96-447e-904f-33c977a19398",
   "metadata": {},
   "outputs": [
    {
     "name": "stdout",
     "output_type": "stream",
     "text": [
      "executing BigQuery: \n",
      "SELECT *\n",
      "FROM reddit_db.raw_reddit_pulls\n",
      "\n",
      "(7828, 9)\n"
     ]
    },
    {
     "data": {
      "text/html": [
       "<div>\n",
       "<style scoped>\n",
       "    .dataframe tbody tr th:only-of-type {\n",
       "        vertical-align: middle;\n",
       "    }\n",
       "\n",
       "    .dataframe tbody tr th {\n",
       "        vertical-align: top;\n",
       "    }\n",
       "\n",
       "    .dataframe thead th {\n",
       "        text-align: right;\n",
       "    }\n",
       "</style>\n",
       "<table border=\"1\" class=\"dataframe\">\n",
       "  <thead>\n",
       "    <tr style=\"text-align: right;\">\n",
       "      <th></th>\n",
       "      <th>id</th>\n",
       "      <th>created</th>\n",
       "      <th>subreddit</th>\n",
       "      <th>subreddit_id</th>\n",
       "      <th>selftext</th>\n",
       "      <th>author_fullname</th>\n",
       "      <th>title</th>\n",
       "      <th>name</th>\n",
       "      <th>url</th>\n",
       "    </tr>\n",
       "  </thead>\n",
       "  <tbody>\n",
       "    <tr>\n",
       "      <th>0</th>\n",
       "      <td>163yydd</td>\n",
       "      <td>2023-08-28 16:39:05</td>\n",
       "      <td>Fauxmoi</td>\n",
       "      <td>t5_2rqcm8</td>\n",
       "      <td></td>\n",
       "      <td>t2_9n3bifg</td>\n",
       "      <td>Cease And Desist sent from Eminem to Republica...</td>\n",
       "      <td>t3_163yydd</td>\n",
       "      <td>https://www.reddit.com/gallery/163yydd</td>\n",
       "    </tr>\n",
       "    <tr>\n",
       "      <th>1</th>\n",
       "      <td>14pgsah</td>\n",
       "      <td>2023-07-03 06:47:54</td>\n",
       "      <td>politics</td>\n",
       "      <td>t5_2cneq</td>\n",
       "      <td></td>\n",
       "      <td>t2_hsdekbu</td>\n",
       "      <td>Trump mocked for bursting into bizarre moaning...</td>\n",
       "      <td>t3_14pgsah</td>\n",
       "      <td>https://www.independent.co.uk/news/world/ameri...</td>\n",
       "    </tr>\n",
       "    <tr>\n",
       "      <th>2</th>\n",
       "      <td>13qv4sf</td>\n",
       "      <td>2023-05-24 14:28:33</td>\n",
       "      <td>politics</td>\n",
       "      <td>t5_2cneq</td>\n",
       "      <td></td>\n",
       "      <td>t2_5d6zv</td>\n",
       "      <td>Florida Man Known for Threatening Teachers and...</td>\n",
       "      <td>t3_13qv4sf</td>\n",
       "      <td>https://newrepublic.com/post/172953/florida-ma...</td>\n",
       "    </tr>\n",
       "    <tr>\n",
       "      <th>3</th>\n",
       "      <td>163ob5x</td>\n",
       "      <td>2023-08-28 09:55:55</td>\n",
       "      <td>politics</td>\n",
       "      <td>t5_2cneq</td>\n",
       "      <td></td>\n",
       "      <td>t2_hsdekbu</td>\n",
       "      <td>Trump drops 6 points in post-debate GOP poll</td>\n",
       "      <td>t3_163ob5x</td>\n",
       "      <td>https://thehill.com/homenews/campaign/4174521-...</td>\n",
       "    </tr>\n",
       "    <tr>\n",
       "      <th>4</th>\n",
       "      <td>163yr9n</td>\n",
       "      <td>2023-08-28 16:31:46</td>\n",
       "      <td>WhitePeopleTwitter</td>\n",
       "      <td>t5_35n7t</td>\n",
       "      <td></td>\n",
       "      <td>t2_id1rijny</td>\n",
       "      <td>Eminem just sent a cease-and-desist letter to ...</td>\n",
       "      <td>t3_163yr9n</td>\n",
       "      <td>https://i.redd.it/kt1tq9fa6xkb1.jpg</td>\n",
       "    </tr>\n",
       "  </tbody>\n",
       "</table>\n",
       "</div>"
      ],
      "text/plain": [
       "        id              created           subreddit subreddit_id selftext  \\\n",
       "0  163yydd  2023-08-28 16:39:05             Fauxmoi    t5_2rqcm8            \n",
       "1  14pgsah  2023-07-03 06:47:54            politics     t5_2cneq            \n",
       "2  13qv4sf  2023-05-24 14:28:33            politics     t5_2cneq            \n",
       "3  163ob5x  2023-08-28 09:55:55            politics     t5_2cneq            \n",
       "4  163yr9n  2023-08-28 16:31:46  WhitePeopleTwitter     t5_35n7t            \n",
       "\n",
       "  author_fullname                                              title  \\\n",
       "0      t2_9n3bifg  Cease And Desist sent from Eminem to Republica...   \n",
       "1      t2_hsdekbu  Trump mocked for bursting into bizarre moaning...   \n",
       "2        t2_5d6zv  Florida Man Known for Threatening Teachers and...   \n",
       "3      t2_hsdekbu       Trump drops 6 points in post-debate GOP poll   \n",
       "4     t2_id1rijny  Eminem just sent a cease-and-desist letter to ...   \n",
       "\n",
       "         name                                                url  \n",
       "0  t3_163yydd             https://www.reddit.com/gallery/163yydd  \n",
       "1  t3_14pgsah  https://www.independent.co.uk/news/world/ameri...  \n",
       "2  t3_13qv4sf  https://newrepublic.com/post/172953/florida-ma...  \n",
       "3  t3_163ob5x  https://thehill.com/homenews/campaign/4174521-...  \n",
       "4  t3_163yr9n                https://i.redd.it/kt1tq9fa6xkb1.jpg  "
      ]
     },
     "execution_count": 17,
     "metadata": {},
     "output_type": "execute_result"
    }
   ],
   "source": [
    "q = f'''\n",
    "SELECT *\n",
    "FROM {schema}.raw_reddit_pulls\n",
    "'''\n",
    "\n",
    "raw_reddit_pulls = get_big_query(q, credientials_path = credientials_path)\n",
    "print(raw_reddit_pulls.shape)\n",
    "raw_reddit_pulls.head()"
   ]
  },
  {
   "cell_type": "markdown",
   "id": "427c653d-b40f-4b53-b0dd-3cfd4f98c159",
   "metadata": {},
   "source": [
    "## post_exposure"
   ]
  },
  {
   "cell_type": "code",
   "execution_count": 19,
   "id": "caaf2aca-9862-4f4c-8dd7-c93aa792fc3a",
   "metadata": {},
   "outputs": [
    {
     "name": "stdout",
     "output_type": "stream",
     "text": [
      "executing BigQuery: \n",
      "SELECT *\n",
      "FROM reddit_db.post_exposure\n",
      "\n",
      "\n",
      "(7002, 5)\n"
     ]
    },
    {
     "data": {
      "text/html": [
       "<div>\n",
       "<style scoped>\n",
       "    .dataframe tbody tr th:only-of-type {\n",
       "        vertical-align: middle;\n",
       "    }\n",
       "\n",
       "    .dataframe tbody tr th {\n",
       "        vertical-align: top;\n",
       "    }\n",
       "\n",
       "    .dataframe thead th {\n",
       "        text-align: right;\n",
       "    }\n",
       "</style>\n",
       "<table border=\"1\" class=\"dataframe\">\n",
       "  <thead>\n",
       "    <tr style=\"text-align: right;\">\n",
       "      <th></th>\n",
       "      <th>id</th>\n",
       "      <th>num_comments</th>\n",
       "      <th>ups</th>\n",
       "      <th>upvote_ratio</th>\n",
       "      <th>measurement_date</th>\n",
       "    </tr>\n",
       "  </thead>\n",
       "  <tbody>\n",
       "    <tr>\n",
       "      <th>0</th>\n",
       "      <td>13ox7hw</td>\n",
       "      <td>17</td>\n",
       "      <td>37</td>\n",
       "      <td>0.73</td>\n",
       "      <td>202308290207</td>\n",
       "    </tr>\n",
       "    <tr>\n",
       "      <th>1</th>\n",
       "      <td>15c9zr8</td>\n",
       "      <td>6</td>\n",
       "      <td>43</td>\n",
       "      <td>0.98</td>\n",
       "      <td>202308290207</td>\n",
       "    </tr>\n",
       "    <tr>\n",
       "      <th>2</th>\n",
       "      <td>zhgwrb</td>\n",
       "      <td>33</td>\n",
       "      <td>80</td>\n",
       "      <td>0.77</td>\n",
       "      <td>202308290207</td>\n",
       "    </tr>\n",
       "    <tr>\n",
       "      <th>3</th>\n",
       "      <td>14z048s</td>\n",
       "      <td>12</td>\n",
       "      <td>2</td>\n",
       "      <td>0.53</td>\n",
       "      <td>202308290207</td>\n",
       "    </tr>\n",
       "    <tr>\n",
       "      <th>4</th>\n",
       "      <td>13ow0kt</td>\n",
       "      <td>11</td>\n",
       "      <td>94</td>\n",
       "      <td>0.92</td>\n",
       "      <td>202308290207</td>\n",
       "    </tr>\n",
       "  </tbody>\n",
       "</table>\n",
       "</div>"
      ],
      "text/plain": [
       "        id num_comments ups upvote_ratio measurement_date\n",
       "0  13ox7hw           17  37         0.73     202308290207\n",
       "1  15c9zr8            6  43         0.98     202308290207\n",
       "2   zhgwrb           33  80         0.77     202308290207\n",
       "3  14z048s           12   2         0.53     202308290207\n",
       "4  13ow0kt           11  94         0.92     202308290207"
      ]
     },
     "execution_count": 19,
     "metadata": {},
     "output_type": "execute_result"
    }
   ],
   "source": [
    "q = f'''\n",
    "SELECT *\n",
    "FROM {schema}.raw_reddit_pulls\n",
    "LEFT JOIN \n",
    "\n",
    "'''\n",
    "\n",
    "post_exposure = get_big_query(q, credientials_path = credientials_path)\n",
    "print(post_exposure.shape)\n",
    "post_exposure.head()"
   ]
  },
  {
   "cell_type": "code",
   "execution_count": null,
   "id": "dcd779c3-cad0-4456-b403-7a0d6d01373e",
   "metadata": {},
   "outputs": [],
   "source": []
  }
 ],
 "metadata": {
  "kernelspec": {
   "display_name": "Python 3 (ipykernel)",
   "language": "python",
   "name": "python3"
  },
  "language_info": {
   "codemirror_mode": {
    "name": "ipython",
    "version": 3
   },
   "file_extension": ".py",
   "mimetype": "text/x-python",
   "name": "python",
   "nbconvert_exporter": "python",
   "pygments_lexer": "ipython3",
   "version": "3.10.9"
  }
 },
 "nbformat": 4,
 "nbformat_minor": 5
}
